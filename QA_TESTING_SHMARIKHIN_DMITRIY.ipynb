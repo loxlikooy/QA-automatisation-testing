{
 "cells": [
  {
   "cell_type": "code",
   "execution_count": 27,
   "id": "cfa5d7ee-eaa1-4262-a7c1-681daf16927f",
   "metadata": {},
   "outputs": [
    {
     "name": "stdout",
     "output_type": "stream",
     "text": [
      "GitHub Login and Logout test case PASSED!\n"
     ]
    }
   ],
   "source": [
    "from selenium import webdriver\n",
    "from selenium.webdriver.common.by import By\n",
    "from selenium.webdriver.support.ui import WebDriverWait\n",
    "from selenium.webdriver.support import expected_conditions as EC\n",
    "\n",
    "driver = webdriver.Safari()\n",
    "\n",
    "github_url = \"https://github.com/login\"\n",
    "driver.get(github_url)\n",
    "\n",
    "try:\n",
    "    username_input = driver.find_element(By.NAME, \"login\")\n",
    "    password_input = driver.find_element(By.NAME, \"password\")\n",
    "    login_button = driver.find_element(By.XPATH, \"//input[@type='submit']\")\n",
    "\n",
    "    username_input.send_keys(\"your login\")\n",
    "    password_input.send_keys(\"your password\")\n",
    "\n",
    "    login_button.click()\n",
    "\n",
    "    WebDriverWait(driver, 10).until(EC.presence_of_element_located((By.XPATH, \"//img[@alt='' and contains(@src, 'https://avatars.githubusercontent.com/u/58352668?v=4')]\")))\n",
    "\n",
    "    github_home_url = \"https://github.com\"\n",
    "    driver.get(github_home_url)\n",
    "\n",
    "    profile_image = driver.find_element(By.XPATH, \"//img[@alt='' and contains(@src, 'https://avatars.githubusercontent.com/u/58352668?v=4')]\")\n",
    "    profile_image.click()\n",
    "\n",
    "    WebDriverWait(driver, 10).until(EC.presence_of_element_located((By.XPATH, \"//a[@data-analytics-event and contains(@href, '/logout')]\")))\n",
    "\n",
    "    sign_out_button = driver.find_element(By.XPATH, \"//a[@data-analytics-event and contains(@href, '/logout')]\")\n",
    "    sign_out_button.click()\n",
    "\n",
    "    WebDriverWait(driver, 10).until(EC.visibility_of_element_located((By.XPATH, \"//h1[contains(text(), 'Are you sure you want to sign out?')]\")))\n",
    "\n",
    "    sign_out_button = driver.find_element(By.XPATH, \"//input[@class='btn btn-block f4 py-3 mt-5']\")\n",
    "    sign_out_button.click()\n",
    "\n",
    "    WebDriverWait(driver, 10).until(EC.element_to_be_clickable((By.LINK_TEXT, \"Sign in\")))\n",
    "\n",
    "    print(\"GitHub Login and Logout test case PASSED!\")\n",
    "\n",
    "except Exception as e:\n",
    "    print(\"GitHub Login and Logout test case FAILED:\", e)\n",
    "\n",
    "finally:\n",
    "    driver.quit()\n"
   ]
  },
  {
   "cell_type": "code",
   "execution_count": 11,
   "id": "58637344-e4df-4738-b36e-ba9e8bed3dbf",
   "metadata": {},
   "outputs": [
    {
     "name": "stdout",
     "output_type": "stream",
     "text": [
      "Search functionality test case PASSED!\n"
     ]
    }
   ],
   "source": [
    "from selenium import webdriver\n",
    "from selenium.webdriver.common.keys import Keys\n",
    "from selenium.webdriver.common.by import By\n",
    "\n",
    "driver = webdriver.Safari()\n",
    "\n",
    "website_url = \"https://www.google.com\"\n",
    "driver.get(website_url)\n",
    "\n",
    "try:\n",
    "    search_input = driver.find_element(By.NAME, \"q\")\n",
    "    search_query = \"google\"\n",
    "    search_input.send_keys(search_query)\n",
    "    search_input.send_keys(Keys.RETURN)\n",
    "    driver.implicitly_wait(5)\n",
    "\n",
    "    assert \"Google\" in driver.title, \"Google is not in the page title\"\n",
    "    assert \"Google\" in driver.page_source, \"Google is not in the page body\"\n",
    "\n",
    "    print(\"Search functionality test case PASSED!\")\n",
    "\n",
    "except Exception as e:\n",
    "    print(\"Search functionality test case FAILED:\", e)\n",
    "\n",
    "finally:\n",
    "    driver.quit()\n"
   ]
  },
  {
   "cell_type": "code",
   "execution_count": 41,
   "id": "96bb5e48-4f87-4c9d-a6af-dd1b4d73922f",
   "metadata": {},
   "outputs": [
    {
     "name": "stdout",
     "output_type": "stream",
     "text": [
      "Flight booking on BlazeDemo successful!\n"
     ]
    }
   ],
   "source": [
    "from selenium import webdriver\n",
    "from selenium.webdriver.common.by import By\n",
    "from selenium.webdriver.common.keys import Keys\n",
    "from selenium.webdriver.support.ui import Select\n",
    "from selenium.webdriver.support.ui import WebDriverWait\n",
    "from selenium.webdriver.support import expected_conditions as EC\n",
    "import time\n",
    "\n",
    "driver = webdriver.Safari()\n",
    "\n",
    "driver.get(\"https://blazedemo.com\")\n",
    "\n",
    "try:\n",
    "    origin_dropdown = Select(driver.find_element(By.NAME, \"fromPort\"))\n",
    "    destination_dropdown = Select(driver.find_element(By.NAME, \"toPort\"))\n",
    "    find_flights_button = driver.find_element(By.XPATH, \"//input[@value='Find Flights']\")\n",
    "\n",
    "    origin_dropdown.select_by_visible_text(\"Boston\")\n",
    "    destination_dropdown.select_by_visible_text(\"New York\")\n",
    "\n",
    "    find_flights_button.click()\n",
    "\n",
    "    time.sleep(3)\n",
    "\n",
    "    choose_flight_button = driver.find_element(By.CSS_SELECTOR, \"input[type='submit']\")\n",
    "    choose_flight_button.click()\n",
    "    WebDriverWait(driver, 10).until(EC.presence_of_element_located((By.XPATH, \"//input[@value='Purchase Flight']\")))\n",
    "\n",
    "    name_input = driver.find_element(By.ID, \"inputName\")\n",
    "    name_input.send_keys(\"John Doe\")\n",
    "\n",
    "    address_input = driver.find_element(By.ID, \"address\")\n",
    "    address_input.send_keys(\"123 Main Street\")\n",
    "\n",
    "    city_input = driver.find_element(By.ID, \"city\")\n",
    "    city_input.send_keys(\"Anytown\")\n",
    "\n",
    "    state_input = driver.find_element(By.ID, \"state\")\n",
    "    state_input.send_keys(\"CA\")\n",
    "\n",
    "    zip_input = driver.find_element(By.ID, \"zipCode\")\n",
    "    zip_input.send_keys(\"12345\")\n",
    "\n",
    "    card_type_dropdown = Select(driver.find_element(By.ID, \"cardType\"))\n",
    "    card_type_dropdown.select_by_visible_text(\"Visa\")\n",
    "\n",
    "    card_number_input = driver.find_element(By.ID, \"creditCardNumber\")\n",
    "    card_number_input.send_keys(\"1234567890123456\")\n",
    "\n",
    "    card_month_input = driver.find_element(By.ID, \"creditCardMonth\")\n",
    "    card_month_input.send_keys(\"12\")\n",
    "\n",
    "    card_year_input = driver.find_element(By.ID, \"creditCardYear\")\n",
    "    card_year_input.send_keys(\"2025\")\n",
    "\n",
    "    name_on_card_input = driver.find_element(By.ID, \"nameOnCard\")\n",
    "    name_on_card_input.send_keys(\"John Doe\")\n",
    "\n",
    "    purchase_button = driver.find_element(By.XPATH, \"//input[@value='Purchase Flight']\")\n",
    "    purchase_button.click()\n",
    "\n",
    "    WebDriverWait(driver, 10).until(EC.text_to_be_present_in_element((By.XPATH, \"//h1\"), \"Thank you for your purchase today!\"))\n",
    "\n",
    "    assert \"Thank you for your purchase today!\" in driver.page_source\n",
    "\n",
    "    print(\"Flight booking on BlazeDemo successful!\")\n",
    "\n",
    "except Exception as e:\n",
    "    print(\"Flight booking on BlazeDemo failed:\", e)\n",
    "\n",
    "finally:\n",
    "    driver.quit()\n"
   ]
  },
  {
   "cell_type": "code",
   "execution_count": null,
   "id": "bd5aedc5-6d78-461d-822a-df57da20b7dd",
   "metadata": {},
   "outputs": [],
   "source": []
  }
 ],
 "metadata": {
  "kernelspec": {
   "display_name": "Python 3 (ipykernel)",
   "language": "python",
   "name": "python3"
  },
  "language_info": {
   "codemirror_mode": {
    "name": "ipython",
    "version": 3
   },
   "file_extension": ".py",
   "mimetype": "text/x-python",
   "name": "python",
   "nbconvert_exporter": "python",
   "pygments_lexer": "ipython3",
   "version": "3.11.5"
  }
 },
 "nbformat": 4,
 "nbformat_minor": 5
}
